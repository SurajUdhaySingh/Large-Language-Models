{
 "cells": [
  {
   "cell_type": "code",
   "execution_count": null,
   "id": "fe9c4d08",
   "metadata": {},
   "outputs": [],
   "source": [
    "import download_corpus as d\n",
    "\n",
    "basic_world_topics = "
   ]
  }
 ],
 "metadata": {
  "kernelspec": {
   "display_name": "Python 3",
   "language": "python",
   "name": "python3"
  },
  "language_info": {
   "name": "python",
   "version": "3.12.7"
  }
 },
 "nbformat": 4,
 "nbformat_minor": 5
}
