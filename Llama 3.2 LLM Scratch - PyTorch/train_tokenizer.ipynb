{
 "cells": [
  {
   "cell_type": "code",
   "execution_count": 1,
   "id": "6e89014c",
   "metadata": {},
   "outputs": [
    {
     "name": "stdout",
     "output_type": "stream",
     "text": [
      "Tokenizer trained. Saved as \"nanollama_tokenizer.model\"\n",
      "Vocabulary size: 16000\n",
      "Special tokens: <pad>, <unk>, <s>, </s>\n"
     ]
    }
   ],
   "source": [
    "import sentencepiece as spm\n",
    "import os\n",
    "\n",
    "# Check if input file exists\n",
    "if not os.path.exists('nanollama_training_corpus.txt'):\n",
    "    raise FileNotFoundError(\"Input file 'basic_knowledge_corpus.txt' not found!\")\n",
    "\n",
    "# Train the tokenizer\n",
    "# Thanks to https://github.com/google/sentencepiece for providing relevant documentations\n",
    "try:\n",
    "    spm.SentencePieceTrainer.train(\n",
    "        input='nanollama_training_corpus.txt',\n",
    "        model_prefix='nanollama_tokenizer',\n",
    "        vocab_size=16000,\n",
    "        model_type='bpe',\n",
    "        pad_id=0, pad_piece='<pad>',\n",
    "        unk_id=1, unk_piece='<unk>',\n",
    "        bos_id=2, bos_piece='<s>',\n",
    "        eos_id=3, eos_piece='</s>',\n",
    "        user_defined_symbols=['<pad>', '<s>', '</s>']\n",
    "    )\n",
    "    print(f'Tokenizer trained. Saved as \"nanollama_tokenizer.model\"')\n",
    "\n",
    "    # Verify the model\n",
    "    sp = spm.SentencePieceProcessor(model_file='nanollama_tokenizer.model')\n",
    "    print(f\"Vocabulary size: {sp.get_piece_size()}\")\n",
    "    print(f\"Special tokens: {sp.id_to_piece(0)}, {sp.id_to_piece(1)}, {sp.id_to_piece(2)}, {sp.id_to_piece(3)}\")\n",
    "\n",
    "except Exception as e:\n",
    "    print(f\"Error training tokenizer: {e}\")\n",
    "    raise"
   ]
  },
  {
   "cell_type": "code",
   "execution_count": null,
   "id": "6aa53f42",
   "metadata": {},
   "outputs": [],
   "source": []
  }
 ],
 "metadata": {
  "kernelspec": {
   "display_name": "Python 3",
   "language": "python",
   "name": "python3"
  },
  "language_info": {
   "codemirror_mode": {
    "name": "ipython",
    "version": 3
   },
   "file_extension": ".py",
   "mimetype": "text/x-python",
   "name": "python",
   "nbconvert_exporter": "python",
   "pygments_lexer": "ipython3",
   "version": "3.12.7"
  }
 },
 "nbformat": 4,
 "nbformat_minor": 5
}
